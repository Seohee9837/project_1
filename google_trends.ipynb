{
 "cells": [
  {
   "cell_type": "code",
   "execution_count": 1,
   "id": "6cb8df52",
   "metadata": {},
   "outputs": [
    {
     "name": "stdout",
     "output_type": "stream",
     "text": [
      "               ratio\n",
      "period              \n",
      "2024-06-23   2.60200\n",
      "2024-06-24  15.94017\n",
      "2024-06-25  15.92084\n",
      "2024-06-26  16.64325\n",
      "2024-06-27  15.35711\n",
      "...              ...\n",
      "2025-06-18  17.14901\n",
      "2025-06-19  16.14901\n",
      "2025-06-20  21.69342\n",
      "2025-06-21   3.36937\n",
      "2025-06-22   2.75585\n",
      "\n",
      "[365 rows x 1 columns]\n"
     ]
    }
   ],
   "source": [
    "import urllib.request\n",
    "import urllib.request\n",
    "import json\n",
    "import pandas as pd\n",
    "import json\n",
    "\n",
    "client_id = \"NjCkeE5n21b4IPWLlbAi\"\n",
    "client_secret = \"J6RWn6YJz8\"\n",
    "\n",
    "# ✨ 필요한 입력값\n",
    "start_date = \"2024-06-23\"\n",
    "end_date = \"2025-06-23\"\n",
    "keywords = [\"삼성전자\"]\n",
    "\n",
    "# 🔧 요청 body 구성\n",
    "body = {\n",
    "    \"startDate\": start_date,\n",
    "    \"endDate\": end_date,\n",
    "    \"timeUnit\": \"date\",\n",
    "    \"keywordGroups\": [\n",
    "        {\n",
    "            \"groupName\": keywords[0],\n",
    "            \"keywords\": keywords\n",
    "        }\n",
    "    ],\n",
    "    \"device\": \"pc\"\n",
    "}\n",
    "\n",
    "# 🔗 API 요청\n",
    "url = \"https://openapi.naver.com/v1/datalab/search\"\n",
    "request = urllib.request.Request(url)\n",
    "request.add_header(\"X-Naver-Client-Id\", client_id)\n",
    "request.add_header(\"X-Naver-Client-Secret\", client_secret)\n",
    "request.add_header(\"Content-Type\", \"application/json\")\n",
    "\n",
    "response = urllib.request.urlopen(request, data=json.dumps(body).encode(\"utf-8\"))\n",
    "rescode = response.getcode()\n",
    "\n",
    "# 📦 결과 확인\n",
    "if rescode == 200:\n",
    "    response_body = response.read()\n",
    "else:\n",
    "    print(\"Error Code:\" + str(rescode))\n",
    "\n",
    "# 네이버 API 응답 결과를 문자열로 받은 경우 (예: response_body.decode('utf-8'))\n",
    "response_text = response_body.decode('utf-8')  # 너가 올린 JSON 문자열을 여기에 붙여넣거나 response_body.decode('utf-8') 대입\n",
    "\n",
    "# JSON 문자열을 파이썬 객체로 변환\n",
    "data_json = json.loads(response_text)\n",
    "\n",
    "# 관심 데이터 추출\n",
    "data_list = data_json['results'][0]['data']  # 첫 번째 키워드 그룹의 데이터\n",
    "\n",
    "# DataFrame 생성\n",
    "df = pd.DataFrame(data_list)\n",
    "\n",
    "# 'period'를 datetime 형식으로 변환하고 인덱스로 지정\n",
    "df['period'] = pd.to_datetime(df['period'])\n",
    "df.set_index('period', inplace=True)\n",
    "\n",
    "print(df)"
   ]
  }
 ],
 "metadata": {
  "kernelspec": {
   "display_name": "langchain",
   "language": "python",
   "name": "python3"
  },
  "language_info": {
   "codemirror_mode": {
    "name": "ipython",
    "version": 3
   },
   "file_extension": ".py",
   "mimetype": "text/x-python",
   "name": "python",
   "nbconvert_exporter": "python",
   "pygments_lexer": "ipython3",
   "version": "3.13.2"
  }
 },
 "nbformat": 4,
 "nbformat_minor": 5
}
